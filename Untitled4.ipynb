{
  "nbformat": 4,
  "nbformat_minor": 0,
  "metadata": {
    "colab": {
      "name": "Untitled4.ipynb",
      "provenance": [],
      "authorship_tag": "ABX9TyNKE9+rvNpKQNOKaurrNshz",
      "include_colab_link": true
    },
    "kernelspec": {
      "name": "python3",
      "display_name": "Python 3"
    },
    "language_info": {
      "name": "python"
    }
  },
  "cells": [
    {
      "cell_type": "markdown",
      "metadata": {
        "id": "view-in-github",
        "colab_type": "text"
      },
      "source": [
        "<a href=\"https://colab.research.google.com/github/aldibergjr/Disaster_Aid_Chatbot/blob/master/Untitled4.ipynb\" target=\"_parent\"><img src=\"https://colab.research.google.com/assets/colab-badge.svg\" alt=\"Open In Colab\"/></a>"
      ]
    },
    {
      "cell_type": "markdown",
      "metadata": {
        "id": "AUAW_OcKa-Sr"
      },
      "source": [
        "# Pré Processamento\n"
      ]
    },
    {
      "cell_type": "code",
      "metadata": {
        "id": "MnheC9_XVyC2"
      },
      "source": [
        "import pandas as pd\n"
      ],
      "execution_count": 1,
      "outputs": []
    },
    {
      "cell_type": "code",
      "metadata": {
        "colab": {
          "base_uri": "https://localhost:8080/"
        },
        "id": "h4F4RE8fV5HI",
        "outputId": "51de55b0-9e8e-49fb-eb4e-d377cdd359a9"
      },
      "source": [
        "dt_train = pd.read_csv('https://raw.githubusercontent.com/aldibergjr/Disaster_Aid_Chatbot/master/data/disaster_response_messages_training.csv')"
      ],
      "execution_count": 2,
      "outputs": [
        {
          "output_type": "stream",
          "text": [
            "/usr/local/lib/python3.7/dist-packages/IPython/core/interactiveshell.py:2718: DtypeWarning: Columns (3) have mixed types.Specify dtype option on import or set low_memory=False.\n",
            "  interactivity=interactivity, compiler=compiler, result=result)\n"
          ],
          "name": "stderr"
        }
      ]
    },
    {
      "cell_type": "code",
      "metadata": {
        "id": "KoHo0qDcWAjr"
      },
      "source": [
        "dt_train.head()"
      ],
      "execution_count": null,
      "outputs": []
    },
    {
      "cell_type": "code",
      "metadata": {
        "id": "aaexekW8WegZ"
      },
      "source": [
        "dt_train.drop(columns = ['id', 'split', 'original', 'PII', 'offer', 'child_alone'], inplace=True)"
      ],
      "execution_count": null,
      "outputs": []
    },
    {
      "cell_type": "code",
      "metadata": {
        "id": "6VLZAE4jW7qY"
      },
      "source": [
        "dt_train = dt_train.drop_duplicates(subset='message')"
      ],
      "execution_count": 11,
      "outputs": []
    },
    {
      "cell_type": "code",
      "metadata": {
        "id": "B-lfRBDFXOQZ"
      },
      "source": [
        "dt_train.describe"
      ],
      "execution_count": null,
      "outputs": []
    },
    {
      "cell_type": "code",
      "metadata": {
        "id": "b_bXzig2bB3U"
      },
      "source": [
        "import spacy\n",
        "nlp = spacy.load(\"en_core_web_sm\")"
      ],
      "execution_count": 14,
      "outputs": []
    },
    {
      "cell_type": "code",
      "metadata": {
        "colab": {
          "base_uri": "https://localhost:8080/"
        },
        "id": "uIbgOFKobW9n",
        "outputId": "ddb85397-86ce-4918-bd2a-bf8763be576e"
      },
      "source": [
        "lemmatized = []                                      \n",
        "stemmed = []                                         \n",
        "tokenized = []\n",
        "\n",
        "for m in dt_train['message']:\n",
        "  tookens = nlp()"
      ],
      "execution_count": 17,
      "outputs": [
        {
          "output_type": "stream",
          "text": [
            "Is\n",
            "the\n",
            "Hurricane\n",
            "over\n",
            "or\n",
            "is\n",
            "it\n",
            "not\n",
            "over\n"
          ],
          "name": "stdout"
        }
      ]
    }
  ]
}